{
 "cells": [
  {
   "cell_type": "code",
   "execution_count": null,
   "metadata": {
    "_kg_hide-input": false,
    "execution": {
     "iopub.execute_input": "2023-11-11T18:13:16.174051Z",
     "iopub.status.busy": "2023-11-11T18:13:16.173783Z",
     "iopub.status.idle": "2023-11-11T18:13:35.299447Z",
     "shell.execute_reply": "2023-11-11T18:13:35.298298Z",
     "shell.execute_reply.started": "2023-11-11T18:13:16.174024Z"
    }
   },
   "outputs": [],
   "source": [
    "!pip install numpy==1.22.0"
   ]
  },
  {
   "cell_type": "markdown",
   "metadata": {},
   "source": [
    "### Investigating augmentation"
   ]
  },
  {
   "cell_type": "markdown",
   "metadata": {},
   "source": [
    "As we decided to perform data augmentation, we conducted this brief study to identify suitable augmentation parameters"
   ]
  },
  {
   "cell_type": "markdown",
   "metadata": {},
   "source": [
    "Imports"
   ]
  },
  {
   "cell_type": "code",
   "execution_count": null,
   "metadata": {
    "execution": {
     "iopub.execute_input": "2023-11-16T23:56:41.886815Z",
     "iopub.status.busy": "2023-11-16T23:56:41.886392Z",
     "iopub.status.idle": "2023-11-16T23:56:52.411639Z",
     "shell.execute_reply": "2023-11-16T23:56:52.410214Z",
     "shell.execute_reply.started": "2023-11-16T23:56:41.886782Z"
    }
   },
   "outputs": [],
   "source": [
    "import numpy as np  \n",
    "from matplotlib import pyplot as plt  \n",
    "from keras.preprocessing.image import ImageDataGenerator  \n",
    "from sklearn.model_selection import train_test_split  \n",
    "from sklearn.preprocessing import MinMaxScaler"
   ]
  },
  {
   "cell_type": "markdown",
   "metadata": {},
   "source": [
    "Util functions"
   ]
  },
  {
   "cell_type": "code",
   "execution_count": null,
   "metadata": {
    "execution": {
     "iopub.execute_input": "2023-11-16T23:56:52.414909Z",
     "iopub.status.busy": "2023-11-16T23:56:52.413748Z",
     "iopub.status.idle": "2023-11-16T23:56:52.424477Z",
     "shell.execute_reply": "2023-11-16T23:56:52.423334Z",
     "shell.execute_reply.started": "2023-11-16T23:56:52.414872Z"
    }
   },
   "outputs": [],
   "source": [
    "def normalize_0_255(tensor_4d_data):\n",
    "    \n",
    "    num_images, height, width, channels = tensor_4d_data.shape\n",
    "\n",
    "    # Reshape the data to (num_images, num_pixels)\n",
    "    tensor_4d_data_reshaped = tensor_4d_data.reshape(num_images, -1)\n",
    "\n",
    "    # Apply MinMaxScaler independently to each image\n",
    "    scaler = MinMaxScaler(feature_range=(0, 255))\n",
    "    \n",
    "    tensor_4d_data_scaled = scaler.fit_transform(tensor_4d_data_reshaped).reshape(tensor_4d_data.shape).astype('uint8')\n",
    "    return tensor_4d_data_scaled\n",
    "\n",
    "\n",
    "\n",
    "#Plot plants\n",
    "def plot_plants(my_images,my_labels,myrange=10,num_img=10):\n",
    "    for index in range(myrange):\n",
    "        fig, axes=plt.subplots(1, num_img, figsize=(30,30))\n",
    "        myrange=np.arange(0, 0+num_img)\n",
    "\n",
    "        for i in myrange:    \n",
    "            ax=axes[i%num_img]\n",
    "            ax.imshow(my_images[index*num_img+i])  # Display the image    \n",
    "            ax.set_title(my_labels[index*num_img+i],size=20)\n",
    "\n",
    "        plt.tight_layout()\n",
    "        plt.show() \n"
   ]
  },
  {
   "cell_type": "code",
   "execution_count": null,
   "metadata": {
    "execution": {
     "iopub.execute_input": "2023-11-16T23:56:52.426088Z",
     "iopub.status.busy": "2023-11-16T23:56:52.425760Z",
     "iopub.status.idle": "2023-11-16T23:56:53.919685Z",
     "shell.execute_reply": "2023-11-16T23:56:53.918669Z",
     "shell.execute_reply.started": "2023-11-16T23:56:52.426061Z"
    }
   },
   "outputs": [],
   "source": [
    "# Load your data    \n",
    "data = np.load('/kaggle/input/dataset-plants/PULITO/public_data_not_outliers.npz', allow_pickle=True)    \n",
    "print(data.files)    \n",
    "img_array = data['data']    \n",
    "labels = data['labels']    \n",
    "\n",
    "# Split the dataset into training and test sets (80-20 split). Add a seed as random state\n",
    "augm_data, test_data, augm_labels, test_labels = train_test_split(img_array, \n",
    "                                                                  labels, \n",
    "                                                                  test_size=0.2, \n",
    "                                                                  random_state=42,\n",
    "                                                                  stratify=labels)  #add stratification"
   ]
  },
  {
   "cell_type": "code",
   "execution_count": null,
   "metadata": {
    "execution": {
     "iopub.execute_input": "2023-11-16T23:57:03.920001Z",
     "iopub.status.busy": "2023-11-16T23:57:03.919571Z",
     "iopub.status.idle": "2023-11-16T23:57:33.782854Z",
     "shell.execute_reply": "2023-11-16T23:57:33.781663Z",
     "shell.execute_reply.started": "2023-11-16T23:57:03.919942Z"
    }
   },
   "outputs": [],
   "source": [
    "augm_data=normalize_0_255(augm_data)\n",
    "plot_plants(augm_data, augm_labels)"
   ]
  },
  {
   "cell_type": "markdown",
   "metadata": {},
   "source": [
    "### Changing  brightness range"
   ]
  },
  {
   "cell_type": "code",
   "execution_count": null,
   "metadata": {
    "execution": {
     "iopub.execute_input": "2023-11-16T23:57:33.785251Z",
     "iopub.status.busy": "2023-11-16T23:57:33.784880Z",
     "iopub.status.idle": "2023-11-16T23:58:41.967641Z",
     "shell.execute_reply": "2023-11-16T23:58:41.966384Z",
     "shell.execute_reply.started": "2023-11-16T23:57:33.785221Z"
    }
   },
   "outputs": [],
   "source": [
    "# Create a data generator    \n",
    "datagen = ImageDataGenerator(rotation_range=45,\n",
    "                             width_shift_range=0.2,\n",
    "                             height_shift_range=0.2,\n",
    "                             brightness_range=[0.5,1.5],\n",
    "                             shear_range=0.2,\n",
    "                             vertical_flip=True,\n",
    "                             horizontal_flip=True,\n",
    "                             fill_mode='reflect')\n",
    "  \n",
    "# Fit the generator to your data    \n",
    "datagen.fit(augm_data)    \n",
    "  \n",
    "#Data Augmentation    \n",
    "# Initialize an empty list to store the augmented images and labels    \n",
    "augmented_images = []    \n",
    "augmented_labels = []    \n",
    "  \n",
    "# Use the .flow() function to generate batches of augmented images    \n",
    "for img_batch, label_batch in datagen.flow(augm_data, augm_labels, batch_size=1):    \n",
    "    for img, label in zip(img_batch, label_batch):    \n",
    "        # Append each augmented image and its label to the list    \n",
    "        augmented_images.append(img)    \n",
    "        augmented_labels.append(label)    \n",
    "  \n",
    "    # Stop the loop after augmenting each image 3 times    \n",
    "    if len(augmented_images) >= len(augm_data) * 3:    \n",
    "        break    \n",
    "\n",
    "augmented_images = normalize_0_255(np.stack(augmented_images))\n",
    "plot_plants(augmented_images,augmented_labels)"
   ]
  },
  {
   "cell_type": "code",
   "execution_count": null,
   "metadata": {
    "execution": {
     "iopub.execute_input": "2023-11-16T23:58:58.478465Z",
     "iopub.status.busy": "2023-11-16T23:58:58.477513Z",
     "iopub.status.idle": "2023-11-17T00:00:05.347249Z",
     "shell.execute_reply": "2023-11-17T00:00:05.346256Z",
     "shell.execute_reply.started": "2023-11-16T23:58:58.478404Z"
    }
   },
   "outputs": [],
   "source": [
    "# Create a data generator    \n",
    "datagen = ImageDataGenerator(rotation_range=45,\n",
    "                             width_shift_range=0.2,\n",
    "                             height_shift_range=0.2,\n",
    "                             brightness_range=[0.8,1.1],\n",
    "                             shear_range=0.2,\n",
    "                             vertical_flip=True,\n",
    "                             horizontal_flip=True,\n",
    "                             fill_mode='reflect')\n",
    "  \n",
    "# Fit the generator to your data    \n",
    "datagen.fit(augm_data)    \n",
    "  \n",
    "#Data Augmentation    \n",
    "# Initialize an empty list to store the augmented images and labels    \n",
    "augmented_images = []    \n",
    "augmented_labels = []    \n",
    "  \n",
    "# Use the .flow() function to generate batches of augmented images    \n",
    "for img_batch, label_batch in datagen.flow(augm_data, augm_labels, batch_size=1):    \n",
    "    for img, label in zip(img_batch, label_batch):    \n",
    "        # Append each augmented image and its label to the list    \n",
    "        augmented_images.append(img)    \n",
    "        augmented_labels.append(label)    \n",
    "  \n",
    "    # Stop the loop after augmenting each image 3 times    \n",
    "    if len(augmented_images) >= len(augm_data) * 3:    \n",
    "        break   \n",
    "        \n",
    "augmented_images = normalize_0_255(np.stack(augmented_images))\n",
    "plot_plants(augmented_images,augmented_labels)"
   ]
  },
  {
   "cell_type": "code",
   "execution_count": null,
   "metadata": {
    "execution": {
     "iopub.execute_input": "2023-11-17T00:00:05.349914Z",
     "iopub.status.busy": "2023-11-17T00:00:05.349048Z",
     "iopub.status.idle": "2023-11-17T00:01:12.668652Z",
     "shell.execute_reply": "2023-11-17T00:01:12.664091Z",
     "shell.execute_reply.started": "2023-11-17T00:00:05.349863Z"
    }
   },
   "outputs": [],
   "source": [
    "# Create a data generator    \n",
    "datagen = ImageDataGenerator(rotation_range=45,\n",
    "                             width_shift_range=0.2,\n",
    "                             height_shift_range=0.2,\n",
    "                             brightness_range=[0.9,1.1],\n",
    "                             shear_range=0.2,\n",
    "                             vertical_flip=True,\n",
    "                             horizontal_flip=True,\n",
    "                             fill_mode='reflect')\n",
    "  \n",
    "# Fit the generator to your data    \n",
    "datagen.fit(augm_data)    \n",
    "  \n",
    "#Data Augmentation    \n",
    "# Initialize an empty list to store the augmented images and labels    \n",
    "augmented_images = []    \n",
    "augmented_labels = []    \n",
    "  \n",
    "# Use the .flow() function to generate batches of augmented images    \n",
    "for img_batch, label_batch in datagen.flow(augm_data, augm_labels, batch_size=1):    \n",
    "    for img, label in zip(img_batch, label_batch):    \n",
    "        # Append each augmented image and its label to the list    \n",
    "        augmented_images.append(img)    \n",
    "        augmented_labels.append(label)    \n",
    "  \n",
    "    # Stop the loop after augmenting each image 3 times    \n",
    "    if len(augmented_images) >= len(augm_data) * 3:    \n",
    "        break   \n",
    "        \n",
    "augmented_images = normalize_0_255(np.stack(augmented_images))\n",
    "plot_plants(augmented_images,augmented_labels)"
   ]
  },
  {
   "cell_type": "markdown",
   "metadata": {},
   "source": [
    "### Conclusion on brightness range: it seems to me that either 0.9-1.1 or 0.8-1.2 are the best"
   ]
  },
  {
   "cell_type": "markdown",
   "metadata": {},
   "source": [
    "## Changing shear range (reduce)"
   ]
  },
  {
   "cell_type": "code",
   "execution_count": null,
   "metadata": {
    "execution": {
     "iopub.execute_input": "2023-11-17T00:01:12.670474Z",
     "iopub.status.busy": "2023-11-17T00:01:12.670117Z",
     "iopub.status.idle": "2023-11-17T00:02:18.826218Z",
     "shell.execute_reply": "2023-11-17T00:02:18.824846Z",
     "shell.execute_reply.started": "2023-11-17T00:01:12.670444Z"
    }
   },
   "outputs": [],
   "source": [
    "# Create a data generator    \n",
    "datagen = ImageDataGenerator(rotation_range=45,\n",
    "                             width_shift_range=0.2,\n",
    "                             height_shift_range=0.2,\n",
    "                             brightness_range=[0.9,1.2],\n",
    "                             shear_range=0.1,\n",
    "                             vertical_flip=True,\n",
    "                             horizontal_flip=True,\n",
    "                             fill_mode='reflect')\n",
    "  \n",
    "# Fit the generator to your data    \n",
    "datagen.fit(augm_data)    \n",
    "  \n",
    "#Data Augmentation    \n",
    "# Initialize an empty list to store the augmented images and labels    \n",
    "augmented_images = []    \n",
    "augmented_labels = []    \n",
    "  \n",
    "# Use the .flow() function to generate batches of augmented images    \n",
    "for img_batch, label_batch in datagen.flow(augm_data, augm_labels, batch_size=1):    \n",
    "    for img, label in zip(img_batch, label_batch):    \n",
    "        # Append each augmented image and its label to the list    \n",
    "        augmented_images.append(img)    \n",
    "        augmented_labels.append(label)    \n",
    "  \n",
    "    # Stop the loop after augmenting each image 3 times    \n",
    "    if len(augmented_images) >= len(augm_data) * 3:    \n",
    "        break   \n",
    "        \n",
    "augmented_images = normalize_0_255(np.stack(augmented_images))\n",
    "plot_plants(augmented_images,augmented_labels)"
   ]
  },
  {
   "cell_type": "code",
   "execution_count": null,
   "metadata": {
    "execution": {
     "iopub.execute_input": "2023-11-17T00:02:18.829222Z",
     "iopub.status.busy": "2023-11-17T00:02:18.828823Z",
     "iopub.status.idle": "2023-11-17T00:03:25.387512Z",
     "shell.execute_reply": "2023-11-17T00:03:25.386195Z",
     "shell.execute_reply.started": "2023-11-17T00:02:18.829189Z"
    }
   },
   "outputs": [],
   "source": [
    "# Create a data generator    \n",
    "datagen = ImageDataGenerator(rotation_range=45,\n",
    "                             width_shift_range=0.2,\n",
    "                             height_shift_range=0.2,\n",
    "                             brightness_range=[0.9,1.2],\n",
    "                             vertical_flip=True,\n",
    "                             horizontal_flip=True,\n",
    "                             fill_mode='reflect')\n",
    "  \n",
    "# Fit the generator to your data    \n",
    "datagen.fit(augm_data)    \n",
    "  \n",
    "#Data Augmentation    \n",
    "# Initialize an empty list to store the augmented images and labels    \n",
    "augmented_images = []    \n",
    "augmented_labels = []    \n",
    "  \n",
    "# Use the .flow() function to generate batches of augmented images    \n",
    "for img_batch, label_batch in datagen.flow(augm_data, augm_labels, batch_size=1):    \n",
    "    for img, label in zip(img_batch, label_batch):    \n",
    "        # Append each augmented image and its label to the list    \n",
    "        augmented_images.append(img)    \n",
    "        augmented_labels.append(label)    \n",
    "  \n",
    "    # Stop the loop after augmenting each image 3 times    \n",
    "    if len(augmented_images) >= len(augm_data) * 3:    \n",
    "        break   \n",
    "        \n",
    "augmented_images = normalize_0_255(np.stack(augmented_images))\n",
    "plot_plants(augmented_images,augmented_labels)"
   ]
  },
  {
   "cell_type": "markdown",
   "metadata": {},
   "source": [
    "## Changing fill model"
   ]
  },
  {
   "cell_type": "code",
   "execution_count": null,
   "metadata": {
    "execution": {
     "iopub.status.busy": "2023-11-17T00:03:26.426621Z",
     "iopub.status.idle": "2023-11-17T00:03:26.427046Z",
     "shell.execute_reply": "2023-11-17T00:03:26.426849Z",
     "shell.execute_reply.started": "2023-11-17T00:03:26.426831Z"
    }
   },
   "outputs": [],
   "source": [
    "# Create a data generator    \n",
    "datagen = ImageDataGenerator(rotation_range=45,\n",
    "                             width_shift_range=0.2,\n",
    "                             height_shift_range=0.2,\n",
    "                             brightness_range=[0.9,1.2],\n",
    "                             vertical_flip=True,\n",
    "                             horizontal_flip=True,\n",
    "                             fill_mode='rotate')\n",
    "  \n",
    "# Fit the generator to your data    \n",
    "datagen.fit(augm_data)    \n",
    "  \n",
    "#Data Augmentation    \n",
    "# Initialize an empty list to store the augmented images and labels    \n",
    "augmented_images = []    \n",
    "augmented_labels = []    \n",
    "  \n",
    "# Use the .flow() function to generate batches of augmented images    \n",
    "for img_batch, label_batch in datagen.flow(augm_data, augm_labels, batch_size=1):    \n",
    "    for img, label in zip(img_batch, label_batch):    \n",
    "        \n",
    "        # Append each augmented image and its label to the list    \n",
    "        augmented_images.append(img)    \n",
    "        augmented_labels.append(label)    \n",
    "  \n",
    "    # Stop the loop after augmenting each image 3 times    \n",
    "    if len(augmented_images) >= len(augm_data) * 3:    \n",
    "        break   \n",
    "        \n",
    "augmented_images = normalize_0_255(np.stack(augmented_images))\n",
    "plot_plants(augmented_images,augmented_labels)"
   ]
  },
  {
   "cell_type": "markdown",
   "metadata": {},
   "source": [
    "### Trying to remove also shifts"
   ]
  },
  {
   "cell_type": "code",
   "execution_count": null,
   "metadata": {
    "execution": {
     "iopub.execute_input": "2023-11-11T19:09:07.849426Z",
     "iopub.status.busy": "2023-11-11T19:09:07.849059Z",
     "iopub.status.idle": "2023-11-11T19:09:38.622754Z",
     "shell.execute_reply": "2023-11-11T19:09:38.621852Z",
     "shell.execute_reply.started": "2023-11-11T19:09:07.849399Z"
    }
   },
   "outputs": [],
   "source": [
    "# Create a data generator    \n",
    "datagen = ImageDataGenerator(brightness_range=[0.9,1.2],\n",
    "                             vertical_flip=True,\n",
    "                             horizontal_flip=True)\n",
    "  \n",
    "# Fit the generator to your data    \n",
    "datagen.fit(augm_data)    \n",
    "  \n",
    "#Data Augmentation    \n",
    "# Initialize an empty list to store the augmented images and labels    \n",
    "augmented_images = []    \n",
    "augmented_labels = []    \n",
    "  \n",
    "# Use the .flow() function to generate batches of augmented images    \n",
    "for img_batch, label_batch in datagen.flow(augm_data, augm_labels, batch_size=1):    \n",
    "    for img, label in zip(img_batch, label_batch):   \n",
    "        \n",
    "        # Append each augmented image and its label to the list    \n",
    "        augmented_images.append(img)    \n",
    "        augmented_labels.append(label)    \n",
    "  \n",
    "    # Stop the loop after augmenting each image 3 times    \n",
    "    if len(augmented_images) >= len(augm_data) * 3:    \n",
    "        break   \n",
    "        \n",
    "augmented_images = normalize_0_255(np.stack(augmented_images))\n",
    "plot_plants(augmented_images,augmented_labels)"
   ]
  },
  {
   "cell_type": "markdown",
   "metadata": {},
   "source": [
    "## Considerations:\n",
    "\n",
    "- due to the shape of the images, we prefer not to include zoom since we believe that it might be responsible of losing important features for the determination of the class\n",
    "- We opt for a 0.9-1.1 brightness change\n",
    "- We maintain reflect as model\n",
    "- We keep this rotation range\n",
    "- As concerns the other aspects, we made some slight variations in different models\n"
   ]
  },
  {
   "cell_type": "markdown",
   "metadata": {},
   "source": [
    "We have also tried to run some basic CNN models with slightly different augmentation settings, (not shown) and the results were consistent with our choice."
   ]
  }
 ],
 "metadata": {
  "kaggle": {
   "accelerator": "none",
   "dataSources": [
    {
     "datasetId": 3949033,
     "sourceId": 6872172,
     "sourceType": "datasetVersion"
    },
    {
     "datasetId": 3949160,
     "sourceId": 6872418,
     "sourceType": "datasetVersion"
    },
    {
     "datasetId": 3949188,
     "sourceId": 6872462,
     "sourceType": "datasetVersion"
    },
    {
     "datasetId": 3950734,
     "sourceId": 6875314,
     "sourceType": "datasetVersion"
    },
    {
     "datasetId": 3974429,
     "sourceId": 6921583,
     "sourceType": "datasetVersion"
    }
   ],
   "dockerImageVersionId": 30559,
   "isGpuEnabled": false,
   "isInternetEnabled": true,
   "language": "python",
   "sourceType": "notebook"
  },
  "kernelspec": {
   "display_name": "Python 3 (ipykernel)",
   "language": "python",
   "name": "python3"
  },
  "language_info": {
   "codemirror_mode": {
    "name": "ipython",
    "version": 3
   },
   "file_extension": ".py",
   "mimetype": "text/x-python",
   "name": "python",
   "nbconvert_exporter": "python",
   "pygments_lexer": "ipython3",
   "version": "3.9.16"
  }
 },
 "nbformat": 4,
 "nbformat_minor": 4
}
