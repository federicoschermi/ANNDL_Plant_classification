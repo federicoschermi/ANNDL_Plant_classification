{
 "cells": [
  {
   "cell_type": "markdown",
   "metadata": {
    "id": "Yh_62reFfKhd"
   },
   "source": [
    "# Study on best models for transfer learning"
   ]
  },
  {
   "cell_type": "code",
   "execution_count": 1,
   "metadata": {
    "execution": {
     "iopub.execute_input": "2023-11-17T22:45:43.905172Z",
     "iopub.status.busy": "2023-11-17T22:45:43.904815Z",
     "iopub.status.idle": "2023-11-17T22:45:57.548701Z",
     "shell.execute_reply": "2023-11-17T22:45:57.547571Z",
     "shell.execute_reply.started": "2023-11-17T22:45:43.905142Z"
    },
    "id": "c9rX-OacfHNM"
   },
   "outputs": [
    {
     "name": "stderr",
     "output_type": "stream",
     "text": [
      "/opt/conda/lib/python3.10/site-packages/scipy/__init__.py:146: UserWarning: A NumPy version >=1.16.5 and <1.23.0 is required for this version of SciPy (detected version 1.24.3\n",
      "  warnings.warn(f\"A NumPy version >={np_minversion} and <{np_maxversion}\"\n"
     ]
    },
    {
     "name": "stdout",
     "output_type": "stream",
     "text": [
      "2.13.0\n"
     ]
    }
   ],
   "source": [
    "#General imports\n",
    "\n",
    "import numpy as np\n",
    "import os\n",
    "import random\n",
    "import pandas as pd\n",
    "import seaborn as sns\n",
    "import matplotlib.pyplot as plt\n",
    "\n",
    "#For Path\n",
    "from pathlib import Path\n",
    "\n",
    "#For metrics\n",
    "from sklearn.metrics import accuracy_score, f1_score, precision_score, recall_score\n",
    "from sklearn.metrics import confusion_matrix\n",
    "\n",
    "#NN-related\n",
    "import tensorflow as tf\n",
    "from tensorflow import keras\n",
    "from keras import layers\n",
    "from keras.models import Model\n",
    "from tensorflow.keras.preprocessing.image import ImageDataGenerator #for fow from folder and data augmentation\n",
    "\n",
    "\n",
    "tfk = tf.keras\n",
    "tfkl = tf.keras.layers\n",
    "print(tf.__version__)"
   ]
  },
  {
   "cell_type": "markdown",
   "metadata": {
    "id": "a32c5609-54dc-44dc-a551-dd5e03e0448e"
   },
   "source": [
    "# Global parameters "
   ]
  },
  {
   "cell_type": "code",
   "execution_count": null,
   "metadata": {
    "execution": {
     "iopub.execute_input": "2023-11-17T20:42:40.466256Z",
     "iopub.status.busy": "2023-11-17T20:42:40.465566Z",
     "iopub.status.idle": "2023-11-17T20:42:40.473007Z",
     "shell.execute_reply": "2023-11-17T20:42:40.472076Z",
     "shell.execute_reply.started": "2023-11-17T20:42:40.466221Z"
    },
    "id": "29ca5f27-ff4e-431e-94b8-b204be8e912b"
   },
   "outputs": [],
   "source": [
    "VALIDATION_SPLIT = 0.2\n",
    "BATCH_SIZE = 64\n",
    "\n",
    "IMG_SIZE = (96,96)\n",
    "INPUT_SHAPE =  (96,96,3)\n",
    "N_CLASSES = 2\n",
    "\n",
    "SEED = 42\n",
    "DATASET_DIR = '/kaggle/input/dataset2/training_data_final'\n",
    "EPOCHS = 40\n",
    "\n",
    "MY_METRIC='binary_accuracy'\n",
    "MY_PATIENCE=20\n",
    "\n",
    "tf.random.set_seed(SEED)"
   ]
  },
  {
   "cell_type": "markdown",
   "metadata": {
    "id": "989ff936-2b06-4b62-a820-cc7d606fba56"
   },
   "source": [
    "# Instantiate the dataset generators\n",
    "\n",
    "We use a 0.8-0.2 train test split"
   ]
  },
  {
   "cell_type": "code",
   "execution_count": null,
   "metadata": {
    "execution": {
     "iopub.execute_input": "2023-11-17T20:43:10.457462Z",
     "iopub.status.busy": "2023-11-17T20:43:10.456459Z",
     "iopub.status.idle": "2023-11-17T20:43:12.536467Z",
     "shell.execute_reply": "2023-11-17T20:43:12.535621Z",
     "shell.execute_reply.started": "2023-11-17T20:43:10.457426Z"
    },
    "id": "bf808f9d-9906-4cb2-ab1c-c52b6a14d711"
   },
   "outputs": [],
   "source": [
    "\n",
    "training_set = tf.keras.utils.image_dataset_from_directory(\n",
    "    DATASET_DIR,\n",
    "    labels='inferred',\n",
    "    label_mode='binary',\n",
    "    class_names = None,\n",
    "    color_mode='rgb',\n",
    "    batch_size=BATCH_SIZE,\n",
    "    image_size=IMG_SIZE,\n",
    "    shuffle=True,\n",
    "    seed=SEED,\n",
    "    validation_split=VALIDATION_SPLIT,\n",
    "    subset='training'\n",
    ")\n",
    "\n",
    "validation_set = tf.keras.utils.image_dataset_from_directory(\n",
    "    DATASET_DIR,\n",
    "    labels='inferred',\n",
    "    label_mode='binary',\n",
    "    class_names = None,\n",
    "    color_mode='rgb',\n",
    "    batch_size=BATCH_SIZE,\n",
    "    image_size=IMG_SIZE,\n",
    "    shuffle=True,\n",
    "    seed=SEED,\n",
    "    validation_split=VALIDATION_SPLIT,\n",
    "    subset='validation'\n",
    ")"
   ]
  },
  {
   "cell_type": "markdown",
   "metadata": {},
   "source": [
    "## Enable mixed precision"
   ]
  },
  {
   "cell_type": "code",
   "execution_count": null,
   "metadata": {
    "execution": {
     "iopub.execute_input": "2023-11-17T20:43:13.887561Z",
     "iopub.status.busy": "2023-11-17T20:43:13.88676Z",
     "iopub.status.idle": "2023-11-17T20:43:13.893546Z",
     "shell.execute_reply": "2023-11-17T20:43:13.892608Z",
     "shell.execute_reply.started": "2023-11-17T20:43:13.887533Z"
    }
   },
   "outputs": [],
   "source": [
    "tf.keras.mixed_precision.set_global_policy('mixed_float16')\n",
    "\n",
    "if tf.keras.mixed_precision.global_policy().name == 'mixed_float16':\n",
    "    print(\"Mixed precision is enabled.\")\n",
    "else:\n",
    "    print(\"Mixed precision is not enabled.\")"
   ]
  },
  {
   "cell_type": "markdown",
   "metadata": {},
   "source": [
    "## Data augmentation"
   ]
  },
  {
   "cell_type": "code",
   "execution_count": null,
   "metadata": {
    "execution": {
     "iopub.execute_input": "2023-11-17T20:43:15.59807Z",
     "iopub.status.busy": "2023-11-17T20:43:15.597432Z",
     "iopub.status.idle": "2023-11-17T20:43:15.616015Z",
     "shell.execute_reply": "2023-11-17T20:43:15.615109Z",
     "shell.execute_reply.started": "2023-11-17T20:43:15.598037Z"
    }
   },
   "outputs": [],
   "source": [
    "data_augmentation = tf.keras.Sequential([\n",
    "  tf.keras.layers.RandomFlip(\"horizontal_and_vertical\"),  \n",
    "  tf.keras.layers.RandomRotation(0.125), \n",
    "  tf.keras.layers.RandomBrightness(-0.2), \n",
    "  tf.keras.layers.RandomZoom((-0.20, 0.45), fill_mode='reflect'),\n",
    "  tf.keras.layers.RandomTranslation(height_factor=0.25, \n",
    "                                    width_factor=0.25, \n",
    "                                    fill_mode='reflect')\n",
    "], name='data_augmentation')\n"
   ]
  },
  {
   "cell_type": "code",
   "execution_count": null,
   "metadata": {
    "execution": {
     "iopub.execute_input": "2023-11-17T20:43:17.528098Z",
     "iopub.status.busy": "2023-11-17T20:43:17.527399Z",
     "iopub.status.idle": "2023-11-17T20:43:17.532249Z",
     "shell.execute_reply": "2023-11-17T20:43:17.531387Z",
     "shell.execute_reply.started": "2023-11-17T20:43:17.528069Z"
    },
    "id": "YmVCB7RIITIq"
   },
   "outputs": [],
   "source": [
    "OUTPUT_DIR = Path() / 'transfer_learning_models'\n",
    "OUTPUT_DIR.mkdir(parents=True, exist_ok=True)"
   ]
  },
  {
   "cell_type": "markdown",
   "metadata": {},
   "source": [
    "# Define early stopping"
   ]
  },
  {
   "cell_type": "code",
   "execution_count": null,
   "metadata": {},
   "outputs": [],
   "source": [
    "early_stopping = tf.keras.callbacks.EarlyStopping(monitor='val_binary_accuracy', \n",
    "                                                  mode='auto', \n",
    "                                                  patience=MY_PATIENCE, \n",
    "                                                  restore_best_weights=True)\n"
   ]
  },
  {
   "cell_type": "markdown",
   "metadata": {
    "id": "350089c3-8553-4783-9976-2abd782d17bd"
   },
   "source": [
    "# VGG16"
   ]
  },
  {
   "cell_type": "code",
   "execution_count": null,
   "metadata": {
    "execution": {
     "iopub.execute_input": "2023-11-17T20:43:26.408013Z",
     "iopub.status.busy": "2023-11-17T20:43:26.4073Z",
     "iopub.status.idle": "2023-11-17T20:43:26.824992Z",
     "shell.execute_reply": "2023-11-17T20:43:26.82402Z",
     "shell.execute_reply.started": "2023-11-17T20:43:26.407982Z"
    },
    "id": "d740ebdc-9522-4f26-9ebb-99c8d37f5492"
   },
   "outputs": [],
   "source": [
    "vgg16  = keras.applications.vgg16.VGG16(\n",
    "    weights='imagenet',\n",
    "    include_top=False,\n",
    "    input_shape=INPUT_SHAPE\n",
    ")\n",
    "vgg16.trainable = False"
   ]
  },
  {
   "cell_type": "code",
   "execution_count": null,
   "metadata": {
    "execution": {
     "iopub.execute_input": "2023-11-17T20:43:28.373578Z",
     "iopub.status.busy": "2023-11-17T20:43:28.373194Z",
     "iopub.status.idle": "2023-11-17T20:43:29.065692Z",
     "shell.execute_reply": "2023-11-17T20:43:29.064926Z",
     "shell.execute_reply.started": "2023-11-17T20:43:28.373545Z"
    },
    "id": "6ea331eb-c123-4196-803c-c124ca78a5d3"
   },
   "outputs": [],
   "source": [
    "inputs = keras.Input(shape=INPUT_SHAPE)\n",
    "\n",
    "x = layers.Resizing(96, 96, interpolation='bicubic', name='resizing')(inputs)\n",
    "\n",
    "x = data_augmentation (x)\n",
    "\n",
    "x = keras.applications.vgg16.preprocess_input(x)\n",
    "\n",
    "x = vgg16(x)\n",
    "\n",
    "x = layers.GlobalAveragePooling2D()(x)\n",
    "\n",
    "x = layers.Dense(512, \n",
    "                 kernel_initializer=keras.initializers.HeUniform(seed=SEED))(x)\n",
    "\n",
    "x = layers.BatchNormalization()(x)\n",
    "\n",
    "x = layers.Activation('relu')(x)\n",
    "\n",
    "x = layers.Dropout(0.3)(x)\n",
    "\n",
    "outputs = layers.Dense(1, activation='sigmoid', kernel_initializer=keras.initializers.GlorotUniform(seed=SEED))(x)\n",
    "\n",
    "model_vgg16 = keras.Model(inputs, outputs)\n",
    "\n",
    "chosen_opt = keras.optimizers.Adam(learning_rate=1e-3)\n",
    "\n",
    "early_stopping = tf.keras.callbacks.EarlyStopping(monitor='val_binary_accuracy', \n",
    "                                                  mode='auto', \n",
    "                                                  patience=MY_PATIENCE, \n",
    "                                                  restore_best_weights=True)\n",
    "\n",
    "model_vgg16.compile(loss=keras.losses.BinaryCrossentropy(), \n",
    "                    optimizer=chosen_opt, \n",
    "                    metrics=[MY_METRIC])"
   ]
  },
  {
   "cell_type": "code",
   "execution_count": null,
   "metadata": {
    "execution": {
     "iopub.execute_input": "2023-11-17T20:43:35.635148Z",
     "iopub.status.busy": "2023-11-17T20:43:35.634525Z",
     "iopub.status.idle": "2023-11-17T20:46:19.497541Z",
     "shell.execute_reply": "2023-11-17T20:46:19.496765Z",
     "shell.execute_reply.started": "2023-11-17T20:43:35.635115Z"
    },
    "id": "oM6a_qwhiZFe"
   },
   "outputs": [],
   "source": [
    "history_VGG16 = model_vgg16.fit(training_set, \n",
    "                                epochs=EPOCHS, \n",
    "                                validation_data=validation_set, \n",
    "                                callbacks = [early_stopping],\n",
    "                                verbose=1)"
   ]
  },
  {
   "cell_type": "code",
   "execution_count": null,
   "metadata": {
    "execution": {
     "iopub.execute_input": "2023-11-17T20:46:19.499565Z",
     "iopub.status.busy": "2023-11-17T20:46:19.499234Z",
     "iopub.status.idle": "2023-11-17T20:46:19.504814Z",
     "shell.execute_reply": "2023-11-17T20:46:19.503832Z",
     "shell.execute_reply.started": "2023-11-17T20:46:19.499536Z"
    },
    "id": "LKy2EvTqDrf0"
   },
   "outputs": [],
   "source": [
    "np.save(str(OUTPUT_DIR / 'history_VGG16.npy'), history_VGG16.history)"
   ]
  },
  {
   "cell_type": "markdown",
   "metadata": {},
   "source": [
    "## ConvNetXLarge"
   ]
  },
  {
   "cell_type": "code",
   "execution_count": null,
   "metadata": {
    "execution": {
     "iopub.execute_input": "2023-11-17T20:50:04.088248Z",
     "iopub.status.busy": "2023-11-17T20:50:04.087158Z",
     "iopub.status.idle": "2023-11-17T20:50:13.732799Z",
     "shell.execute_reply": "2023-11-17T20:50:13.731775Z",
     "shell.execute_reply.started": "2023-11-17T20:50:04.088214Z"
    }
   },
   "outputs": [],
   "source": [
    "ConvNeXtXLargemodel= tf.keras.applications.ConvNeXtXLarge(\n",
    "    model_name=\"convnext_xlarge\",\n",
    "    include_top=False,\n",
    "    include_preprocessing=True, #ragionare se lo vogliamo\n",
    "    weights=\"imagenet\",\n",
    "    input_shape=INPUT_SHAPE,\n",
    "    pooling=None \n",
    ")\n",
    "\n",
    "ConvNeXtXLargemodel.trainable = False"
   ]
  },
  {
   "cell_type": "code",
   "execution_count": null,
   "metadata": {
    "execution": {
     "iopub.execute_input": "2023-11-17T20:50:16.238447Z",
     "iopub.status.busy": "2023-11-17T20:50:16.237796Z",
     "iopub.status.idle": "2023-11-17T20:50:18.682081Z",
     "shell.execute_reply": "2023-11-17T20:50:18.681268Z",
     "shell.execute_reply.started": "2023-11-17T20:50:16.238412Z"
    }
   },
   "outputs": [],
   "source": [
    "inputs = keras.Input(shape=INPUT_SHAPE)\n",
    "\n",
    "x = layers.Resizing(96, 96, interpolation='bicubic', name='resizing')(inputs)\n",
    "\n",
    "x = data_augmentation (x)\n",
    "\n",
    "x = ConvNeXtXLargemodel(x)\n",
    "\n",
    "x = layers.GlobalAveragePooling2D()(x)\n",
    "\n",
    "x = layers.Dense(512, \n",
    "                 kernel_initializer=keras.initializers.HeUniform(seed=SEED))(x)\n",
    "\n",
    "x = layers.BatchNormalization()(x)\n",
    "\n",
    "x = layers.Activation('relu')(x)\n",
    "\n",
    "x = layers.Dropout(0.3)(x)\n",
    "\n",
    "outputs = layers.Dense(1, \n",
    "                       activation='sigmoid', \n",
    "                       kernel_initializer=keras.initializers.GlorotUniform(seed=SEED))(x)\n",
    "\n",
    "\n",
    "\n",
    "model_ConvNetXLarge = keras.Model(inputs, outputs)\n",
    "\n",
    "chosen_opt = keras.optimizers.Adam(learning_rate=1e-3)\n",
    "\n",
    "model_ConvNetXLarge.compile(loss=keras.losses.BinaryCrossentropy(), \n",
    "                            optimizer=chosen_opt, \n",
    "                            metrics=[MY_METRIC])"
   ]
  },
  {
   "cell_type": "code",
   "execution_count": null,
   "metadata": {
    "execution": {
     "iopub.execute_input": "2023-11-17T20:52:38.42162Z",
     "iopub.status.busy": "2023-11-17T20:52:38.421244Z",
     "iopub.status.idle": "2023-11-17T20:52:46.655136Z",
     "shell.execute_reply": "2023-11-17T20:52:46.653534Z",
     "shell.execute_reply.started": "2023-11-17T20:52:38.421591Z"
    }
   },
   "outputs": [],
   "source": [
    "history_ConvNetXLarge = model_ConvNetXLarge.fit(training_set, \n",
    "                                epochs=EPOCHS, \n",
    "                                validation_data=validation_set, \n",
    "                                callbacks = [early_stopping],\n",
    "                                verbose=1)\n"
   ]
  },
  {
   "cell_type": "code",
   "execution_count": null,
   "metadata": {
    "execution": {
     "iopub.status.busy": "2023-11-17T20:52:20.559425Z",
     "iopub.status.idle": "2023-11-17T20:52:20.559786Z",
     "shell.execute_reply": "2023-11-17T20:52:20.559609Z",
     "shell.execute_reply.started": "2023-11-17T20:52:20.559593Z"
    }
   },
   "outputs": [],
   "source": [
    "np.save(str(OUTPUT_DIR / 'history_ConvNetXLarge.npy'), history_ConvNetXLarge.history)"
   ]
  },
  {
   "cell_type": "markdown",
   "metadata": {},
   "source": [
    "## EfficientNetV2L"
   ]
  },
  {
   "cell_type": "code",
   "execution_count": null,
   "metadata": {
    "execution": {
     "iopub.execute_input": "2023-11-17T20:59:39.096914Z",
     "iopub.status.busy": "2023-11-17T20:59:39.096541Z",
     "iopub.status.idle": "2023-11-17T20:59:49.563882Z",
     "shell.execute_reply": "2023-11-17T20:59:49.562985Z",
     "shell.execute_reply.started": "2023-11-17T20:59:39.096886Z"
    }
   },
   "outputs": [],
   "source": [
    "EfficientNetV2Lmodel= tf.keras.applications.EfficientNetV2L(\n",
    "    include_top=False,\n",
    "    include_preprocessing=True, \n",
    "    weights=\"imagenet\",\n",
    "    input_shape=INPUT_SHAPE,\n",
    "    pooling=None \n",
    ")\n",
    "\n",
    "EfficientNetV2Lmodel.trainable = False\n"
   ]
  },
  {
   "cell_type": "code",
   "execution_count": null,
   "metadata": {
    "execution": {
     "iopub.execute_input": "2023-11-17T21:03:30.540617Z",
     "iopub.status.busy": "2023-11-17T21:03:30.53991Z",
     "iopub.status.idle": "2023-11-17T21:03:34.705245Z",
     "shell.execute_reply": "2023-11-17T21:03:34.704243Z",
     "shell.execute_reply.started": "2023-11-17T21:03:30.540585Z"
    }
   },
   "outputs": [],
   "source": [
    "inputs = keras.Input(shape=INPUT_SHAPE)\n",
    "\n",
    "x = layers.Resizing(96, 96, interpolation='bicubic', name='resizing')(inputs)\n",
    "\n",
    "\n",
    "\n",
    "x = data_augmentation (x)\n",
    "\n",
    "x = keras.applications.efficientnet.preprocess_input(x)\n",
    "\n",
    "\n",
    "x = EfficientNetV2Lmodel(x)\n",
    "\n",
    "x = layers.GlobalAveragePooling2D()(x)\n",
    "\n",
    "x = layers.Dense(512, kernel_initializer=keras.initializers.HeUniform(seed=SEED))(x)\n",
    "\n",
    "x = layers.BatchNormalization()(x)\n",
    "\n",
    "x = layers.Activation('relu')(x)\n",
    "\n",
    "x = layers.Dropout(0.3)(x)\n",
    "\n",
    "outputs = layers.Dense(1, activation='sigmoid', \n",
    "                       kernel_initializer=keras.initializers.GlorotUniform(seed=SEED))(x)\n",
    "\n",
    "\n",
    "model_EfficientNetV2L = keras.Model(inputs, outputs)"
   ]
  },
  {
   "cell_type": "code",
   "execution_count": null,
   "metadata": {
    "execution": {
     "iopub.execute_input": "2023-11-17T21:01:57.237873Z",
     "iopub.status.busy": "2023-11-17T21:01:57.23698Z",
     "iopub.status.idle": "2023-11-17T21:01:57.244533Z",
     "shell.execute_reply": "2023-11-17T21:01:57.243535Z",
     "shell.execute_reply.started": "2023-11-17T21:01:57.237837Z"
    }
   },
   "outputs": [],
   "source": [
    "model_EfficientNetV2L"
   ]
  },
  {
   "cell_type": "code",
   "execution_count": null,
   "metadata": {
    "execution": {
     "iopub.execute_input": "2023-11-17T21:05:45.807265Z",
     "iopub.status.busy": "2023-11-17T21:05:45.806871Z",
     "iopub.status.idle": "2023-11-17T21:05:45.840672Z",
     "shell.execute_reply": "2023-11-17T21:05:45.839878Z",
     "shell.execute_reply.started": "2023-11-17T21:05:45.807234Z"
    }
   },
   "outputs": [],
   "source": [
    "chosen_opt = keras.optimizers.Adam(learning_rate=1e-3)\n",
    "\n",
    "model_EfficientNetV2L.compile(loss=keras.losses.BinaryCrossentropy(), \n",
    "                              optimizer=chosen_opt, \n",
    "                              metrics=[MY_METRIC])"
   ]
  },
  {
   "cell_type": "code",
   "execution_count": null,
   "metadata": {
    "execution": {
     "iopub.execute_input": "2023-11-17T21:05:49.010596Z",
     "iopub.status.busy": "2023-11-17T21:05:49.009868Z",
     "iopub.status.idle": "2023-11-17T21:09:29.379439Z",
     "shell.execute_reply": "2023-11-17T21:09:29.378022Z",
     "shell.execute_reply.started": "2023-11-17T21:05:49.010563Z"
    }
   },
   "outputs": [],
   "source": [
    "history_EfficientNetV2L = model_EfficientNetV2L.fit(training_set, \n",
    "                                epochs=EPOCHS, \n",
    "                                validation_data=validation_set, \n",
    "                                callbacks = [early_stopping],\n",
    "                                verbose=1)\n",
    "\n"
   ]
  },
  {
   "cell_type": "code",
   "execution_count": null,
   "metadata": {},
   "outputs": [],
   "source": [
    "np.save(str(OUTPUT_DIR / 'history_EfficientNetV2L.npy'), history_EfficientNetV2L.history)"
   ]
  },
  {
   "cell_type": "markdown",
   "metadata": {},
   "source": [
    "## NASNetLarge"
   ]
  },
  {
   "cell_type": "code",
   "execution_count": null,
   "metadata": {
    "execution": {
     "iopub.execute_input": "2023-11-17T21:09:38.825Z",
     "iopub.status.busy": "2023-11-17T21:09:38.82462Z",
     "iopub.status.idle": "2023-11-17T21:10:01.16393Z",
     "shell.execute_reply": "2023-11-17T21:10:01.163081Z",
     "shell.execute_reply.started": "2023-11-17T21:09:38.824971Z"
    }
   },
   "outputs": [],
   "source": [
    "NASNetLargemodel= tf.keras.applications.NASNetLarge(\n",
    "    include_top=False,\n",
    "    weights=\"imagenet\",\n",
    "    input_shape=INPUT_SHAPE,\n",
    "    pooling=None \n",
    ")\n",
    "\n",
    "NASNetLargemodel.trainable = False"
   ]
  },
  {
   "cell_type": "code",
   "execution_count": null,
   "metadata": {
    "execution": {
     "iopub.execute_input": "2023-11-17T21:13:30.507603Z",
     "iopub.status.busy": "2023-11-17T21:13:30.506852Z",
     "iopub.status.idle": "2023-11-17T21:13:34.112863Z",
     "shell.execute_reply": "2023-11-17T21:13:34.111873Z",
     "shell.execute_reply.started": "2023-11-17T21:13:30.50757Z"
    }
   },
   "outputs": [],
   "source": [
    "inputs = keras.Input(shape=INPUT_SHAPE)\n",
    "\n",
    "x = layers.Resizing(96, 96, interpolation='bicubic', name='resizing')(inputs)\n",
    "\n",
    "x = data_augmentation (x)\n",
    "\n",
    "x = tf.keras.applications.nasnet.preprocess_input(x)\n",
    "\n",
    "x = NASNetLargemodel(x)\n",
    "\n",
    "x = layers.GlobalAveragePooling2D()(x)\n",
    "\n",
    "x = layers.Dense(512, \n",
    "                 kernel_initializer=keras.initializers.HeUniform(seed=SEED))(x)\n",
    "\n",
    "x = layers.BatchNormalization()(x)\n",
    "\n",
    "x = layers.Activation('relu')(x)\n",
    "\n",
    "x = layers.Dropout(0.3)(x)\n",
    "\n",
    "outputs = layers.Dense(1, activation='sigmoid', kernel_initializer=keras.initializers.GlorotUniform(seed=SEED))(x)\n",
    "\n",
    "\n",
    "\n",
    "model_NASNetLarge = keras.Model(inputs, outputs)\n",
    "\n",
    "chosen_opt = keras.optimizers.Adam(learning_rate=1e-3)\n",
    "\n",
    "model_NASNetLarge.compile(loss=keras.losses.BinaryCrossentropy(), \n",
    "                            optimizer=chosen_opt, \n",
    "                            metrics=[MY_METRIC])\n"
   ]
  },
  {
   "cell_type": "code",
   "execution_count": null,
   "metadata": {
    "execution": {
     "iopub.execute_input": "2023-11-17T21:13:34.115012Z",
     "iopub.status.busy": "2023-11-17T21:13:34.114634Z",
     "iopub.status.idle": "2023-11-17T21:14:19.40205Z",
     "shell.execute_reply": "2023-11-17T21:14:19.400567Z",
     "shell.execute_reply.started": "2023-11-17T21:13:34.114979Z"
    }
   },
   "outputs": [],
   "source": [
    "history_NASNetLarge = model_NASNetLarge.fit(training_set, \n",
    "                                epochs=EPOCHS, \n",
    "                                validation_data=validation_set, \n",
    "                                callbacks = [early_stopping],\n",
    "                                verbose=1)\n"
   ]
  },
  {
   "cell_type": "code",
   "execution_count": null,
   "metadata": {},
   "outputs": [],
   "source": [
    "np.save(str(OUTPUT_DIR / 'history_NASNetLarge.npy'), history_NASNetLarge.history)"
   ]
  },
  {
   "cell_type": "markdown",
   "metadata": {
    "id": "P4UukMnTF2Rj"
   },
   "source": [
    "# Plot models"
   ]
  },
  {
   "cell_type": "markdown",
   "metadata": {
    "id": "Wv6zt42QJbjO"
   },
   "source": [
    "Read the history."
   ]
  },
  {
   "cell_type": "code",
   "execution_count": 28,
   "metadata": {
    "execution": {
     "iopub.execute_input": "2023-11-17T22:56:14.749148Z",
     "iopub.status.busy": "2023-11-17T22:56:14.748795Z",
     "iopub.status.idle": "2023-11-17T22:56:14.757422Z",
     "shell.execute_reply": "2023-11-17T22:56:14.756627Z",
     "shell.execute_reply.started": "2023-11-17T22:56:14.749119Z"
    },
    "id": "c2obzZgptAT-"
   },
   "outputs": [],
   "source": [
    "model_names = ['VGG16',  'ConvNetXLarge', 'EfficientNetV2L', 'NASNetLarge']\n",
    "\n",
    "history = []\n",
    "\n",
    "for i in model_names:\n",
    "    name = '/kaggle/input/transfer-learning/history_'+str(i)+'.npy'\n",
    "    history.append(np.load(name, allow_pickle='TRUE').item())"
   ]
  },
  {
   "cell_type": "code",
   "execution_count": 47,
   "metadata": {
    "execution": {
     "iopub.execute_input": "2023-11-17T23:07:04.621182Z",
     "iopub.status.busy": "2023-11-17T23:07:04.620292Z",
     "iopub.status.idle": "2023-11-17T23:07:05.748623Z",
     "shell.execute_reply": "2023-11-17T23:07:05.747718Z",
     "shell.execute_reply.started": "2023-11-17T23:07:04.621147Z"
    },
    "id": "IDG0o2cXw4q8"
   },
   "outputs": [
    {
     "data": {
      "image/png": "[encoded data removed]",
      "text/plain": [
       "<Figure size 640x480 with 2 Axes>"
      ]
     },
     "metadata": {},
     "output_type": "display_data"
    }
   ],
   "source": [
    "plt.style.use('ggplot')\n",
    "\n",
    "custom_palette = sns.color_palette(\"Set1\", len(model_names))\n",
    "\n",
    "\n",
    "# Two subplots, the axes array is 1-d\n",
    "fig, (ax1,ax2) = plt.subplots(2, sharex=True)\n",
    "\n",
    "#fig.suptitle('Results with different supernets')\n",
    "\n",
    "for i in range(len(model_names)):\n",
    "    ax1.plot(history[i]['val_binary_accuracy'], label=model_names[i],color=custom_palette[i])\n",
    "\n",
    "ax1.set_ylabel('Accuracy')\n",
    "ax1.set_xlabel('Epochs')\n",
    "ax1.legend(loc='upper left')\n",
    "\n",
    "\n",
    "ax1.yaxis.label.set_color('black')\n",
    "ax1.xaxis.label.set_color('black')\n",
    "\n",
    "ax1.set_ylim(0.6, 1.0)\n",
    "\n",
    "\n",
    "for i in range(len(model_names)):\n",
    "    ax2.plot(history[i]['val_loss'], label=model_names[i], color=custom_palette[i])\n",
    "\n",
    "ax2.set_ylabel('Loss')\n",
    "ax2.set_xlabel('Epochs')\n",
    "ax2.legend(loc='upper left')\n",
    "\n",
    "ax2.yaxis.label.set_color('black')\n",
    "ax2.xaxis.label.set_color('black')\n",
    "\n",
    "fig.suptitle('Architectures for transfer learning')\n",
    "\n",
    "plt.savefig('architectures_transfer_learning.pdf', bbox_inches='tight')\n",
    "\n",
    "\n",
    "plt.show()"
   ]
  },
  {
   "cell_type": "markdown",
   "metadata": {},
   "source": [
    "## Maximum accuracy reached on the validation set by the supernets"
   ]
  },
  {
   "cell_type": "code",
   "execution_count": 49,
   "metadata": {
    "execution": {
     "iopub.execute_input": "2023-11-17T23:07:26.564100Z",
     "iopub.status.busy": "2023-11-17T23:07:26.563363Z",
     "iopub.status.idle": "2023-11-17T23:07:26.570466Z",
     "shell.execute_reply": "2023-11-17T23:07:26.569317Z",
     "shell.execute_reply.started": "2023-11-17T23:07:26.564064Z"
    }
   },
   "outputs": [
    {
     "name": "stdout",
     "output_type": "stream",
     "text": [
      "Maximum accuracy for model  VGG16 :  0.7940000295639038\n",
      "Maximum accuracy for model  ConvNetXLarge :  0.890999972820282\n",
      "Maximum accuracy for model  EfficientNetV2L :  0.8560000061988831\n",
      "Maximum accuracy for model  NASNetLarge :  0.7649999856948853\n"
     ]
    }
   ],
   "source": [
    "for i in range(len(model_names)):\n",
    "    print(\"Maximum accuracy for model \", model_names[i],\": \", np.max(history[i]['val_binary_accuracy']))"
   ]
  }
 ],
 "metadata": {
  "accelerator": "GPU",
  "colab": {
   "provenance": []
  },
  "gpuClass": "standard",
  "kaggle": {
   "accelerator": "gpu",
   "dataSources": [
    {
     "datasetId": 3989640,
     "sourceId": 6946764,
     "sourceType": "datasetVersion"
    },
    {
     "datasetId": 4009055,
     "sourceId": 6976726,
     "sourceType": "datasetVersion"
    },
    {
     "datasetId": 4018844,
     "sourceId": 6992007,
     "sourceType": "datasetVersion"
    }
   ],
   "dockerImageVersionId": 30588,
   "isGpuEnabled": true,
   "isInternetEnabled": true,
   "language": "python",
   "sourceType": "notebook"
  },
  "kernelspec": {
   "display_name": "Python 3 (ipykernel)",
   "language": "python",
   "name": "python3"
  },
  "language_info": {
   "codemirror_mode": {
    "name": "ipython",
    "version": 3
   },
   "file_extension": ".py",
   "mimetype": "text/x-python",
   "name": "python",
   "nbconvert_exporter": "python",
   "pygments_lexer": "ipython3",
   "version": "3.9.16"
  }
 },
 "nbformat": 4,
 "nbformat_minor": 4
}
