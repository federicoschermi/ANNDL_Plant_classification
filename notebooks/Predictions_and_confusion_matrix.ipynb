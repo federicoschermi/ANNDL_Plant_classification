{
 "cells": [
  {
   "cell_type": "markdown",
   "metadata": {},
   "source": [
    "# Code to compute predictions and the confusion matrix"
   ]
  },
  {
   "cell_type": "code",
   "execution_count": null,
   "metadata": {},
   "outputs": [],
   "source": [
    "import os\n",
    "import keras\n",
    "import tensorflow as tf\n",
    "import numpy as np\n",
    "import pandas as pd\n",
    "import random\n",
    "import seaborn as sns\n",
    "from keras.layers import Layer\n",
    "from keras.utils import CustomObjectScope\n",
    "import matplotlib.pyplot as plt\n",
    "from sklearn.metrics import confusion_matrix\n",
    "from tensorflow.keras import initializers\n",
    "\n",
    "print(tf.__version__)"
   ]
  },
  {
   "cell_type": "code",
   "execution_count": null,
   "metadata": {},
   "outputs": [],
   "source": [
    "seed = 42\n",
    "\n",
    "random.seed(seed)\n",
    "os.environ['PYTHONHASHSEED'] = str(seed)\n",
    "np.random.seed(seed)\n",
    "tf.random.set_seed(seed)\n",
    "tf.compat.v1.set_random_seed(seed)"
   ]
  },
  {
   "cell_type": "code",
   "execution_count": null,
   "metadata": {},
   "outputs": [],
   "source": [
    "class LayerScale(Layer):\n",
    "    def __init__(self, init_values, projection_dim, **kwargs):\n",
    "        super().__init__(**kwargs)\n",
    "        self.init_values = init_values\n",
    "        self.projection_dim = projection_dim\n",
    "\n",
    "    def build(self, _):\n",
    "        self.gamma = self.add_weight(\n",
    "            shape=(self.projection_dim,),\n",
    "            initializer=initializers.Constant(self.init_values),\n",
    "            trainable=True,\n",
    "        )\n",
    "\n",
    "    def call(self, x):\n",
    "        return x * self.gamma\n",
    "\n",
    "    def get_config(self):\n",
    "        config = super().get_config()\n",
    "        config.update(\n",
    "            {\n",
    "                \"init_values\": self.init_values,\n",
    "                \"projection_dim\": self.projection_dim,\n",
    "            }\n",
    "        )\n",
    "        return config"
   ]
  },
  {
   "cell_type": "code",
   "execution_count": null,
   "metadata": {},
   "outputs": [],
   "source": [
    "DATA_PATH = '/kaggle/input/training-data-final/training_data_final'"
   ]
  },
  {
   "cell_type": "code",
   "execution_count": null,
   "metadata": {},
   "outputs": [],
   "source": [
    "VALIDATION_SPLIT = 0.2\n",
    "BATCH_SIZE = 64\n",
    "\n",
    "IMG_SIZE = (96,96)\n",
    "IMG_SHAPE = IMG_SIZE + (3,)\n",
    "N_CLASSES = 2\n",
    "\n",
    "training_set = tf.keras.utils.image_dataset_from_directory(\n",
    "    DATA_PATH,\n",
    "    labels='inferred',\n",
    "    label_mode='binary',\n",
    "    class_names = None,\n",
    "    color_mode='rgb',\n",
    "    batch_size=BATCH_SIZE,\n",
    "    image_size=(96,96),\n",
    "    shuffle=True,\n",
    "    seed=seed,\n",
    "    validation_split=VALIDATION_SPLIT,\n",
    "    subset='training'\n",
    ")\n",
    "\n",
    "validation_set = tf.keras.utils.image_dataset_from_directory(\n",
    "    DATA_PATH,\n",
    "    labels='inferred',\n",
    "    label_mode='binary',\n",
    "    class_names = None,\n",
    "    color_mode='rgb',\n",
    "    batch_size=BATCH_SIZE,\n",
    "    image_size=(96,96),\n",
    "    shuffle=True,\n",
    "    seed=seed,\n",
    "    validation_split=VALIDATION_SPLIT,\n",
    "    subset='validation'\n",
    ")"
   ]
  },
  {
   "cell_type": "code",
   "execution_count": null,
   "metadata": {},
   "outputs": [],
   "source": [
    "MODEL_PATH = '/kaggle/input/basso093model/SubmissionModel'"
   ]
  },
  {
   "cell_type": "code",
   "execution_count": null,
   "metadata": {},
   "outputs": [],
   "source": [
    "model = tf.keras.models.load_model(MODEL_PATH, custom_objects={'LayerScale': LayerScale}, safe_mode=False)\n",
    "\n",
    "predictions = []\n",
    "labels = []\n",
    "for x, y in validation_set:\n",
    "    pred_batch = model.predict(x)\n",
    "    pred_batch = pred_batch.reshape(-1)\n",
    "    predictions.extend(pred_batch)\n",
    "    labels.extend(y.numpy())\n",
    "\n",
    "predictions = np.array(predictions)\n",
    "binary_predictions = np.where(predictions > 0.5, 1, 0)\n",
    "cm = confusion_matrix(labels, binary_predictions)\n",
    "cm_normalized = cm.astype('float') / cm.sum(axis=1)[:, np.newaxis]\n",
    "\n",
    "plt.figure(figsize=(10, 7))\n",
    "\n",
    "sns.heatmap(cm_normalized, annot=True, fmt='.2f', cmap='Blues', annot_kws={\"size\": 16})\n",
    "\n",
    "plt.xlabel('Predicted', fontsize=14)\n",
    "plt.ylabel('Actual', fontsize=14)\n",
    "plt.xticks(fontsize=12)\n",
    "plt.yticks(fontsize=12)\n",
    "plt.savefig('/kaggle/working/confusion_matrix.png', dpi=300)\n",
    "plt.show()"
   ]
  },
  {
   "cell_type": "code",
   "execution_count": null,
   "metadata": {},
   "outputs": [],
   "source": [
    "from IPython.display import FileLink\n",
    "FileLink(r'confusion_matrix.png')"
   ]
  },
  {
   "cell_type": "markdown",
   "metadata": {},
   "source": [
    "# With TTA"
   ]
  },
  {
   "cell_type": "code",
   "execution_count": null,
   "metadata": {},
   "outputs": [],
   "source": [
    "model = tf.keras.models.load_model(MODEL_PATH, custom_objects={'LayerScale': LayerScale}, safe_mode=False)\n",
    "\n",
    "def tta_prediction(image):\n",
    "    TTA_STEPS = 10\n",
    "    BATCH_SIZE = 32\n",
    "\n",
    "    test_gen = tf.keras.preprocessing.image.ImageDataGenerator(\n",
    "        rotation_range=45,\n",
    "        width_shift_range=0.2,\n",
    "        height_shift_range=0.2,\n",
    "        brightness_range=[0.90, 1.10],\n",
    "        vertical_flip=True,\n",
    "        horizontal_flip=True,\n",
    "        fill_mode='reflect')\n",
    "\n",
    "    yhats = []\n",
    "\n",
    "    for i in range(TTA_STEPS):\n",
    "        preds = model.predict(test_gen.flow(image, batch_size=BATCH_SIZE, shuffle=False))\n",
    "        yhats.append(preds)\n",
    "\n",
    "    mean_pred = tf.reduce_mean(yhats, axis=0)\n",
    "    tta_pred = tf.cast(mean_pred > 0.5, tf.int32)\n",
    "    tta_pred_reshaped = tf.reshape(tta_pred, [-1])\n",
    "\n",
    "    return tta_pred_reshaped\n",
    "\n",
    "predictions = []\n",
    "labels = []\n",
    "for x, y in validation_set:\n",
    "    pred_batch = tta_prediction(x)\n",
    "    predictions.extend(pred_batch)\n",
    "    labels.extend(y.numpy())\n",
    "\n",
    "predictions = np.array(predictions)\n",
    "binary_predictions = np.where(predictions > 0.5, 1, 0)\n",
    "cm = confusion_matrix(labels, binary_predictions)\n",
    "cm_normalized = cm.astype('float') / cm.sum(axis=1)[:, np.newaxis]\n",
    "\n",
    "plt.figure(figsize=(10, 7))\n",
    "\n",
    "sns.heatmap(cm_normalized, annot=True, fmt='.2f', cmap='Blues', annot_kws={\"size\": 16})\n",
    "\n",
    "plt.xlabel('Predicted', fontsize=14)\n",
    "plt.ylabel('Actual', fontsize=14)\n",
    "plt.xticks(fontsize=12)\n",
    "plt.yticks(fontsize=12)\n",
    "plt.savefig('/kaggle/working/tta_confusion_matrix.png', dpi=300)\n",
    "plt.show()"
   ]
  },
  {
   "cell_type": "code",
   "execution_count": null,
   "metadata": {},
   "outputs": [],
   "source": [
    "from IPython.display import FileLink\n",
    "FileLink(r'tta_confusion_matrix.png')"
   ]
  }
 ],
 "metadata": {
  "kaggle": {
   "accelerator": "gpu",
   "dataSources": [
    {
     "datasetId": 3998130,
     "sourceId": 6960033,
     "sourceType": "datasetVersion"
    },
    {
     "datasetId": 4022775,
     "sourceId": 6997931,
     "sourceType": "datasetVersion"
    }
   ],
   "dockerImageVersionId": 30588,
   "isGpuEnabled": true,
   "isInternetEnabled": true,
   "language": "python",
   "sourceType": "notebook"
  },
  "kernelspec": {
   "display_name": "Python 3 (ipykernel)",
   "language": "python",
   "name": "python3"
  },
  "language_info": {
   "codemirror_mode": {
    "name": "ipython",
    "version": 3
   },
   "file_extension": ".py",
   "mimetype": "text/x-python",
   "name": "python",
   "nbconvert_exporter": "python",
   "pygments_lexer": "ipython3",
   "version": "3.9.16"
  }
 },
 "nbformat": 4,
 "nbformat_minor": 4
}
