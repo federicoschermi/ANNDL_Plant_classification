{
 "cells": [
  {
   "cell_type": "code",
   "execution_count": 3,
   "metadata": {
    "execution": {
     "iopub.execute_input": "2023-11-18T22:07:23.884692Z",
     "iopub.status.busy": "2023-11-18T22:07:23.884116Z",
     "iopub.status.idle": "2023-11-18T22:07:43.020322Z",
     "shell.execute_reply": "2023-11-18T22:07:43.019121Z",
     "shell.execute_reply.started": "2023-11-18T22:07:23.884661Z"
    }
   },
   "outputs": [],
   "source": [
    "import numpy as np\n",
    "import matplotlib.pyplot as plt\n",
    "import tensorflow as tf\n",
    "from scipy.spatial import distance\n",
    "\n",
    "# Load the data\n",
    "data = np.load('public_data.npz', allow_pickle=True)\n",
    "X = data['data']\n",
    "y = data['labels']\n",
    "\n",
    "X = ((X - X.min()) * (1/(X.max() - X.min()) * 255)).astype('uint8')\n",
    "\n",
    "# Define templates for outlier detection\n",
    "template_plant = X[0]  # Use the first image as a template for plants\n",
    "template_shrek = X[58] # Load a template image of Shrek\n",
    "template_trololo = X[338]  # Load a template image of \"TROLOLO\"\n",
    "\n",
    "# Define a function to calculate the Euclidean distance between two images\n",
    "def calculate_distance(image1, image2):\n",
    "    return distance.euclidean(image1.flatten(), image2.flatten())\n",
    "\n",
    "# Set a threshold for outlier detection\n",
    "threshold = 5000\n",
    "\n",
    "removed_images = []\n",
    "removed_labels = []\n",
    "\n",
    "cleaned_images = []\n",
    "cleaned_labels = []\n",
    "\n",
    "for i in range(len(X)):\n",
    "    img = X[i]\n",
    "    label = y[i]\n",
    "\n",
    "    if i == 0:\n",
    "        cleaned_images.append(img)\n",
    "        cleaned_labels.append(label)\n",
    "    else:\n",
    "        distance_to_plant = calculate_distance(img, template_plant)\n",
    "        distance_to_shrek = calculate_distance(img, template_shrek)\n",
    "        distance_to_trololo = calculate_distance(img, template_trololo)\n",
    "\n",
    "        if (\n",
    "            distance_to_plant < threshold or\n",
    "            distance_to_shrek < threshold or\n",
    "            distance_to_trololo < threshold\n",
    "        ):\n",
    "            removed_images.append(img)\n",
    "            removed_labels.append(label)\n",
    "        else:\n",
    "            cleaned_images.append(img)\n",
    "            cleaned_labels.append(label)\n",
    "\n",
    "X_cleaned = np.array(cleaned_images)\n",
    "y_cleaned = np.array(cleaned_labels)\n",
    "\n",
    "X_removed = np.array(removed_images)\n",
    "y_removed = np.array(removed_labels)\n",
    "\n",
    "np.savez('/kaggle/working/plants.npz', data=X_cleaned, labels=y_cleaned)\n",
    "np.savez('/kaggle/working/shrek_trololo.npz', data=X_removed, labels=y_removed)"
   ]
  },
  {
   "cell_type": "code",
   "execution_count": 4,
   "metadata": {
    "execution": {
     "iopub.execute_input": "2023-11-18T22:07:43.023781Z",
     "iopub.status.busy": "2023-11-18T22:07:43.023093Z",
     "iopub.status.idle": "2023-11-18T22:07:43.030105Z",
     "shell.execute_reply": "2023-11-18T22:07:43.028660Z",
     "shell.execute_reply.started": "2023-11-18T22:07:43.023743Z"
    }
   },
   "outputs": [
    {
     "name": "stdout",
     "output_type": "stream",
     "text": [
      "Number of plant images: 5004\n",
      "Number of Shrek and Trololo images: 196\n"
     ]
    }
   ],
   "source": [
    "print(\"Number of plant images:\", len(X_cleaned))\n",
    "print(\"Number of Shrek and Trololo images:\", len(X_removed))"
   ]
  },
  {
   "cell_type": "code",
   "execution_count": 5,
   "metadata": {
    "execution": {
     "iopub.execute_input": "2023-11-18T22:07:43.032194Z",
     "iopub.status.busy": "2023-11-18T22:07:43.031725Z",
     "iopub.status.idle": "2023-11-18T22:07:43.048935Z",
     "shell.execute_reply": "2023-11-18T22:07:43.047429Z",
     "shell.execute_reply.started": "2023-11-18T22:07:43.032128Z"
    }
   },
   "outputs": [
    {
     "data": {
      "text/html": [
       "<a href='plants.npz' target='_blank'>plants.npz</a><br>"
      ],
      "text/plain": [
       "/kaggle/working/plants.npz"
      ]
     },
     "execution_count": 5,
     "metadata": {},
     "output_type": "execute_result"
    }
   ],
   "source": [
    "from IPython.display import FileLink\n",
    "FileLink(r'plants.npz')"
   ]
  },
  {
   "cell_type": "code",
   "execution_count": 6,
   "metadata": {
    "execution": {
     "iopub.execute_input": "2023-11-18T22:07:43.051298Z",
     "iopub.status.busy": "2023-11-18T22:07:43.050730Z",
     "iopub.status.idle": "2023-11-18T22:07:43.071524Z",
     "shell.execute_reply": "2023-11-18T22:07:43.069787Z",
     "shell.execute_reply.started": "2023-11-18T22:07:43.051252Z"
    }
   },
   "outputs": [
    {
     "data": {
      "text/html": [
       "<a href='shrek_trololo.npz' target='_blank'>shrek_trololo.npz</a><br>"
      ],
      "text/plain": [
       "/kaggle/working/shrek_trololo.npz"
      ]
     },
     "execution_count": 6,
     "metadata": {},
     "output_type": "execute_result"
    }
   ],
   "source": [
    "from IPython.display import FileLink\n",
    "FileLink(r'shrek_trololo.npz')"
   ]
  }
 ],
 "metadata": {
  "kaggle": {
   "accelerator": "none",
   "dataSources": [
    {
     "datasetId": 3950734,
     "sourceId": 6875314,
     "sourceType": "datasetVersion"
    },
    {
     "datasetId": 3972052,
     "sourceId": 6917502,
     "sourceType": "datasetVersion"
    }
   ],
   "dockerImageVersionId": 30558,
   "isGpuEnabled": false,
   "isInternetEnabled": true,
   "language": "python",
   "sourceType": "notebook"
  },
  "kernelspec": {
   "display_name": "Python 3 (ipykernel)",
   "language": "python",
   "name": "python3"
  },
  "language_info": {
   "codemirror_mode": {
    "name": "ipython",
    "version": 3
   },
   "file_extension": ".py",
   "mimetype": "text/x-python",
   "name": "python",
   "nbconvert_exporter": "python",
   "pygments_lexer": "ipython3",
   "version": "3.9.16"
  }
 },
 "nbformat": 4,
 "nbformat_minor": 4
}
